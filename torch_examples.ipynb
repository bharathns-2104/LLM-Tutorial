{
 "cells": [
  {
   "cell_type": "code",
   "execution_count": 2,
   "id": "da0a1d66",
   "metadata": {
    "vscode": {
     "languageId": "plaintext"
    }
   },
   "outputs": [
    {
     "name": "stdout",
     "output_type": "stream",
     "text": [
      "cpu\n"
     ]
    }
   ],
   "source": [
    "import torch\n",
    "import numpy as np\n",
    "import time\n",
    "import torch.nn as nn\n",
    "from torch.nn import functional as F\n",
    "import warnings\n",
    "device ='cuda' if torch.cuda.is_available() else 'cpu'\n",
    "print(device)"
   ]
  },
  {
   "cell_type": "code",
   "execution_count": 20,
   "id": "b257b9cd-ef1b-41e3-a5bd-59d9cd34498f",
   "metadata": {},
   "outputs": [
    {
     "data": {
      "text/plain": [
       "tensor([-50, -42, -85, -74,  52, -39])"
      ]
     },
     "execution_count": 20,
     "metadata": {},
     "output_type": "execute_result"
    }
   ],
   "source": [
    "randint=torch.randint(-100,100,(6,))\n",
    "randint"
   ]
  },
  {
   "cell_type": "code",
   "execution_count": 21,
   "id": "d56a8d26-24d4-4aca-af3e-c0431ed03e37",
   "metadata": {},
   "outputs": [
    {
     "data": {
      "text/plain": [
       "tensor([[0.1000, 1.2000],\n",
       "        [2.2000, 3.1000],\n",
       "        [4.9000, 5.2000]])"
      ]
     },
     "execution_count": 21,
     "metadata": {},
     "output_type": "execute_result"
    }
   ],
   "source": [
    "tensor = torch.tensor([[0.1,1.2],[2.2,3.1],[4.9,5.2]])\n",
    "tensor"
   ]
  },
  {
   "cell_type": "code",
   "execution_count": 22,
   "id": "39fab48b-a428-4cd1-86e3-5dce9ddc21ac",
   "metadata": {},
   "outputs": [
    {
     "data": {
      "text/plain": [
       "tensor([[0., 0., 0.],\n",
       "        [0., 0., 0.]])"
      ]
     },
     "execution_count": 22,
     "metadata": {},
     "output_type": "execute_result"
    }
   ],
   "source": [
    "zeroes = torch.zeros(2,3)\n",
    "zeroes"
   ]
  },
  {
   "cell_type": "code",
   "execution_count": 23,
   "id": "a114c9c1-4b0b-441a-b4ac-fb0dfd555c55",
   "metadata": {},
   "outputs": [
    {
     "data": {
      "text/plain": [
       "tensor([[1., 1., 1., 1.],\n",
       "        [1., 1., 1., 1.],\n",
       "        [1., 1., 1., 1.]])"
      ]
     },
     "execution_count": 23,
     "metadata": {},
     "output_type": "execute_result"
    }
   ],
   "source": [
    "ones = torch.ones(3,4)\n",
    "ones"
   ]
  },
  {
   "cell_type": "code",
   "execution_count": 24,
   "id": "7ea2d7a9-3177-42fc-a137-71ec14c4570b",
   "metadata": {},
   "outputs": [
    {
     "data": {
      "text/plain": [
       "tensor([[0., 0., 0.],\n",
       "        [0., 0., 0.]])"
      ]
     },
     "execution_count": 24,
     "metadata": {},
     "output_type": "execute_result"
    }
   ],
   "source": [
    "input= torch.empty(2,3)\n",
    "input"
   ]
  },
  {
   "cell_type": "code",
   "execution_count": 25,
   "id": "ee8fb7e0-f133-4463-9970-8cff72cbbe5d",
   "metadata": {},
   "outputs": [
    {
     "data": {
      "text/plain": [
       "tensor([0, 1, 2, 3, 4])"
      ]
     },
     "execution_count": 25,
     "metadata": {},
     "output_type": "execute_result"
    }
   ],
   "source": [
    "arange = torch.arange(5)\n",
    "arange"
   ]
  },
  {
   "cell_type": "code",
   "execution_count": 26,
   "id": "a66443e0-6595-42de-9e18-129b3a7c1b5c",
   "metadata": {},
   "outputs": [
    {
     "data": {
      "text/plain": [
       "tensor([ 3.0000,  4.7500,  6.5000,  8.2500, 10.0000])"
      ]
     },
     "execution_count": 26,
     "metadata": {},
     "output_type": "execute_result"
    }
   ],
   "source": [
    "linspace = torch.linspace(3,10,steps=5)\n",
    "linspace"
   ]
  },
  {
   "cell_type": "code",
   "execution_count": 27,
   "id": "62c1ba22-d3f4-40af-b53e-f7bb74c253ec",
   "metadata": {},
   "outputs": [
    {
     "data": {
      "text/plain": [
       "tensor([1.0000e-10, 1.0000e-05, 1.0000e+00, 1.0000e+05, 1.0000e+10])"
      ]
     },
     "execution_count": 27,
     "metadata": {},
     "output_type": "execute_result"
    }
   ],
   "source": [
    "logspace = torch.logspace(start=-10,end=10,steps=5)\n",
    "logspace"
   ]
  },
  {
   "cell_type": "code",
   "execution_count": 28,
   "id": "97e8b234-021a-4aa7-81cd-ac5c3aabce4b",
   "metadata": {},
   "outputs": [
    {
     "data": {
      "text/plain": [
       "tensor([[1., 0., 0., 0., 0.],\n",
       "        [0., 1., 0., 0., 0.],\n",
       "        [0., 0., 1., 0., 0.],\n",
       "        [0., 0., 0., 1., 0.],\n",
       "        [0., 0., 0., 0., 1.]])"
      ]
     },
     "execution_count": 28,
     "metadata": {},
     "output_type": "execute_result"
    }
   ],
   "source": [
    "eye = torch.eye(5)\n",
    "eye"
   ]
  },
  {
   "cell_type": "code",
   "execution_count": 29,
   "id": "f0d87f28-b34c-42e1-80ef-0b37f3a7abb4",
   "metadata": {},
   "outputs": [
    {
     "data": {
      "text/plain": [
       "tensor([[5223573626992,             0,             0],\n",
       "        [            0,             0,             0]])"
      ]
     },
     "execution_count": 29,
     "metadata": {},
     "output_type": "execute_result"
    }
   ],
   "source": [
    "a = torch.empty((2,3), dtype=torch.int64)\n",
    "emptylike=torch.empty_like(a)\n",
    "emptylike"
   ]
  },
  {
   "cell_type": "code",
   "execution_count": 39,
   "id": "7289a2f8-12d9-4977-befc-d7143d8f39ec",
   "metadata": {},
   "outputs": [
    {
     "name": "stdout",
     "output_type": "stream",
     "text": [
      "0.000000\n",
      "CPU times: total: 0 ns\n",
      "Wall time: 0 ns\n"
     ]
    }
   ],
   "source": [
    "%%time\n",
    "start_time =time.time()\n",
    "zeros= torch.zeros(1,1)\n",
    "end_time=time.time()\n",
    "\n",
    "elapsed_time=end_time-start_time\n",
    "print(f\"{elapsed_time:8f}\")"
   ]
  },
  {
   "cell_type": "code",
   "execution_count": 38,
   "id": "96593fc4-fddc-4c9d-a09b-e1d4f69b502a",
   "metadata": {},
   "outputs": [
    {
     "name": "stdout",
     "output_type": "stream",
     "text": [
      " 0.369710\n",
      " 0.337298\n"
     ]
    }
   ],
   "source": [
    "torch_rand1 = torch.rand(100,100,100,100).to(device)\n",
    "torch_rand2 = torch.rand(100,100,100,100).to(device)\n",
    "np_rand1 = torch.rand(100,100,100,100)\n",
    "np_rand2 = torch.rand(100,100,100,100)\n",
    "\n",
    "start_time = time.time()\n",
    "\n",
    "rand = (torch_rand1 @ torch_rand2)\n",
    "end_time = time.time()\n",
    "\n",
    "elapsed_time = end_time-start_time\n",
    "print(f\"{elapsed_time: 8f}\")\n",
    "\n",
    "start_time = time.time()\n",
    "rand = np.multiply(np_rand1,np_rand2)\n",
    "end_time=time.time()\n",
    "elapsed_time= end_time-start_time\n",
    "print(f\"{elapsed_time: 8f}\")\n",
    "warnings.filterwarnings(\"ignore\", category=DeprecationWarning)\n"
   ]
  },
  {
   "cell_type": "code",
   "execution_count": 41,
   "id": "f8b64916-8c60-40ac-9edd-961f51a0a024",
   "metadata": {},
   "outputs": [
    {
     "name": "stdout",
     "output_type": "stream",
     "text": [
      "tensor([0, 1, 1, 0, 1, 1, 1, 1, 1, 1])\n"
     ]
    }
   ],
   "source": [
    "# torch.stack,torch.multinomial,torch.tril,torch.triu,input.T/input.transpose,nn.linear,torch.cat,F.softmax\n",
    "\n",
    "# Define a probability tensor\n",
    "probabilities = torch.tensor([0.1,0.9])\n",
    "samples =torch.multinomial(probabilities,num_samples=10,replacement= True)\n",
    "print(samples)"
   ]
  },
  {
   "cell_type": "code",
   "execution_count": 42,
   "id": "26e27fa3-cedb-4a6c-b924-eeb0e6c1fc90",
   "metadata": {},
   "outputs": [
    {
     "data": {
      "text/plain": [
       "tensor([1, 2, 3, 4, 5])"
      ]
     },
     "execution_count": 42,
     "metadata": {},
     "output_type": "execute_result"
    }
   ],
   "source": [
    "tensor = torch.tensor([1,2,3,4])\n",
    "out = torch.cat((tensor,torch.tensor([5])), dim=0)\n",
    "out"
   ]
  },
  {
   "cell_type": "code",
   "execution_count": 43,
   "id": "a799a3af-00e5-4850-b712-147580ee3fa5",
   "metadata": {},
   "outputs": [
    {
     "data": {
      "text/plain": [
       "tensor([[1., 0., 0., 0., 0.],\n",
       "        [1., 1., 0., 0., 0.],\n",
       "        [1., 1., 1., 0., 0.],\n",
       "        [1., 1., 1., 1., 0.],\n",
       "        [1., 1., 1., 1., 1.]])"
      ]
     },
     "execution_count": 43,
     "metadata": {},
     "output_type": "execute_result"
    }
   ],
   "source": [
    "out=torch.tril(torch.ones(5,5))\n",
    "out"
   ]
  },
  {
   "cell_type": "code",
   "execution_count": 44,
   "id": "53ae235d-dbdc-4de3-8a99-1b6821d5eea1",
   "metadata": {},
   "outputs": [
    {
     "data": {
      "text/plain": [
       "tensor([[1., 1., 1., 1., 1.],\n",
       "        [0., 1., 1., 1., 1.],\n",
       "        [0., 0., 1., 1., 1.],\n",
       "        [0., 0., 0., 1., 1.],\n",
       "        [0., 0., 0., 0., 1.]])"
      ]
     },
     "execution_count": 44,
     "metadata": {},
     "output_type": "execute_result"
    }
   ],
   "source": [
    "out=torch.triu(torch.ones(5,5))\n",
    "out"
   ]
  },
  {
   "cell_type": "code",
   "execution_count": 45,
   "id": "df51bf81-1f6f-4b94-b5b1-0c8cf36e59e3",
   "metadata": {},
   "outputs": [
    {
     "data": {
      "text/plain": [
       "tensor([[0., -inf, -inf, -inf, -inf],\n",
       "        [0., 0., -inf, -inf, -inf],\n",
       "        [0., 0., 0., -inf, -inf],\n",
       "        [0., 0., 0., 0., -inf],\n",
       "        [0., 0., 0., 0., 0.]])"
      ]
     },
     "execution_count": 45,
     "metadata": {},
     "output_type": "execute_result"
    }
   ],
   "source": [
    "out = torch.zeros(5,5).masked_fill(torch.tril(torch.ones(5,5))==0, float(\"-inf\"))\n",
    "out"
   ]
  },
  {
   "cell_type": "code",
   "execution_count": 46,
   "id": "7d642d54-f8b5-4d08-8756-b1c3833eb043",
   "metadata": {},
   "outputs": [
    {
     "data": {
      "text/plain": [
       "tensor([[1., 0., 0., 0., 0.],\n",
       "        [1., 1., 0., 0., 0.],\n",
       "        [1., 1., 1., 0., 0.],\n",
       "        [1., 1., 1., 1., 0.],\n",
       "        [1., 1., 1., 1., 1.]])"
      ]
     },
     "execution_count": 46,
     "metadata": {},
     "output_type": "execute_result"
    }
   ],
   "source": [
    "torch.exp(out)"
   ]
  },
  {
   "cell_type": "code",
   "execution_count": 47,
   "id": "62d185c8-e723-4ef9-9dd7-4a8dae8c076a",
   "metadata": {},
   "outputs": [
    {
     "data": {
      "text/plain": [
       "torch.Size([4, 3, 2])"
      ]
     },
     "execution_count": 47,
     "metadata": {},
     "output_type": "execute_result"
    }
   ],
   "source": [
    "input = torch.zeros(2,3,4)\n",
    "out = input.transpose(0,2)\n",
    "out.shape"
   ]
  },
  {
   "cell_type": "code",
   "execution_count": 48,
   "id": "b37c50c8-5731-4850-a64c-e406647aa24b",
   "metadata": {},
   "outputs": [
    {
     "data": {
      "text/plain": [
       "tensor([[1, 2, 3],\n",
       "        [4, 5, 6],\n",
       "        [7, 8, 9]])"
      ]
     },
     "execution_count": 48,
     "metadata": {},
     "output_type": "execute_result"
    }
   ],
   "source": [
    "tensor1=torch.tensor([1,2,3])\n",
    "tensor2=torch.tensor([4,5,6])\n",
    "tensor3=torch.tensor([7,8,9])\n",
    "\n",
    "stacked_tensor=torch.stack([tensor1,tensor2,tensor3])\n",
    "stacked_tensor"
   ]
  },
  {
   "cell_type": "code",
   "execution_count": 52,
   "id": "f9b54fc6-f56b-4b4d-a086-ae9e7cb27e66",
   "metadata": {},
   "outputs": [
    {
     "name": "stdout",
     "output_type": "stream",
     "text": [
      "tensor([-3.7900,  1.6472, -5.0215], grad_fn=<SqueezeBackward4>)\n"
     ]
    }
   ],
   "source": [
    "import torch.nn as nn\n",
    "sample  = torch.tensor([10.,10.,10.])\n",
    "linear= nn.Linear(3,3,bias=False)\n",
    "print(linear(sample))"
   ]
  },
  {
   "cell_type": "code",
   "execution_count": 53,
   "id": "9b281976-4db6-4b23-b3b6-3dcda128fcd1",
   "metadata": {},
   "outputs": [
    {
     "name": "stdout",
     "output_type": "stream",
     "text": [
      "tensor([0.0900, 0.2447, 0.6652])\n"
     ]
    }
   ],
   "source": [
    "import torch.nn.functional as F\n",
    "\n",
    "tensor1= torch.tensor([1.0,2.0,3.0])\n",
    "softmax_output = F.softmax(tensor1,dim=0)\n",
    "print(softmax_output)"
   ]
  },
  {
   "cell_type": "code",
   "execution_count": 54,
   "id": "0aa7fa2c-4528-4728-a570-135d3d77da76",
   "metadata": {},
   "outputs": [
    {
     "name": "stdout",
     "output_type": "stream",
     "text": [
      "torch.Size([4, 100])\n"
     ]
    }
   ],
   "source": [
    "vocab_size= 1000\n",
    "embedding_dim=100\n",
    "embedding = nn.Embedding(vocab_size,embedding_dim)\n",
    "\n",
    "input_indices = torch.LongTensor([1,5,3,2])\n",
    "embedding_out= embedding(input_indices)\n",
    "\n",
    "print(embedding_out.shape)"
   ]
  },
  {
   "cell_type": "code",
   "execution_count": 4,
   "id": "337716a4-c374-4ec3-a688-ed495c4c68c7",
   "metadata": {},
   "outputs": [
    {
     "name": "stdout",
     "output_type": "stream",
     "text": [
      "tensor([[ 27,  30,  33],\n",
      "        [ 61,  68,  75],\n",
      "        [ 95, 106, 117]])\n",
      "tensor([[ 27,  30,  33],\n",
      "        [ 61,  68,  75],\n",
      "        [ 95, 106, 117]])\n"
     ]
    }
   ],
   "source": [
    "a= torch.tensor([[1,2],[3,4],[5,6]])\n",
    "b= torch.tensor([[7,8,9],[10,11,12]])\n",
    "print(a @ b)\n",
    "print(torch.matmul(a,b))"
   ]
  },
  {
   "cell_type": "code",
   "execution_count": 3,
   "id": "b43a5bea-268e-40a8-9518-ec7a14e76ed7",
   "metadata": {},
   "outputs": [
    {
     "name": "stdout",
     "output_type": "stream",
     "text": [
      "tensor([[0., 0., 0.],\n",
      "        [0., 0., 0.],\n",
      "        [0., 0., 0.]])\n"
     ]
    }
   ],
   "source": [
    "int_64 = torch.randint(1, (3, 2)).float()\n",
    "float_32 = torch.rand(2,3)\n",
    "result = torch.matmul(int_64, float_32)\n",
    "print(result)"
   ]
  },
  {
   "cell_type": "code",
   "execution_count": 4,
   "id": "2b337da4-0f09-46a5-aeb1-c16542cce63e",
   "metadata": {},
   "outputs": [
    {
     "name": "stdout",
     "output_type": "stream",
     "text": [
      "torch.Size([2, 3, 5])\n",
      "torch.Size([2, 3, 5])\n"
     ]
    }
   ],
   "source": [
    "a = torch.rand(2, 3, 5)\n",
    "print(a.shape)\n",
    "x, y, z = a.shape\n",
    "a = a.view(x,y,z)\n",
    "# print(x, y, z)\n",
    "print(a.shape)"
   ]
  },
  {
   "cell_type": "code",
   "execution_count": 5,
   "id": "def744fe-6729-4538-bce9-55dd2a0eb379",
   "metadata": {},
   "outputs": [
    {
     "name": "stdout",
     "output_type": "stream",
     "text": [
      "tensor([[0.1200, 0.8272, 0.7622, 0.8691, 0.1592, 0.0051, 0.7025, 0.8143, 0.6094,\n",
      "         0.3010],\n",
      "        [0.7192, 0.0233, 0.3392, 0.6508, 0.3798, 0.7037, 0.7549, 0.9848, 0.8924,\n",
      "         0.7870],\n",
      "        [0.8475, 0.0211, 0.2356, 0.5625, 0.3741, 0.1686, 0.0547, 0.0372, 0.4245,\n",
      "         0.2936],\n",
      "        [0.6575, 0.8881, 0.0200, 0.5095, 0.9948, 0.0324, 0.0153, 0.7182, 0.5935,\n",
      "         0.9768],\n",
      "        [0.7732, 0.0688, 0.2934, 0.5798, 0.3619, 0.8243, 0.7520, 0.1020, 0.7366,\n",
      "         0.4150],\n",
      "        [0.6477, 0.7598, 0.9311, 0.6106, 0.4686, 0.0201, 0.2872, 0.0255, 0.4611,\n",
      "         0.1918],\n",
      "        [0.6072, 0.4813, 0.8786, 0.3196, 0.7322, 0.5540, 0.0626, 0.5006, 0.5613,\n",
      "         0.2101],\n",
      "        [0.9957, 0.9579, 0.3841, 0.4274, 0.9307, 0.9436, 0.6135, 0.0336, 0.3129,\n",
      "         0.5776],\n",
      "        [0.4292, 0.1114, 0.4922, 0.4791, 0.0240, 0.6636, 0.1915, 0.8224, 0.0352,\n",
      "         0.0689],\n",
      "        [0.1969, 0.8420, 0.8430, 0.4063, 0.7907, 0.8620, 0.0702, 0.7083, 0.5824,\n",
      "         0.4125],\n",
      "        [0.4191, 0.3139, 0.5538, 0.0678, 0.2455, 0.0505, 0.1245, 0.7097, 0.0595,\n",
      "         0.2828],\n",
      "        [0.0246, 0.7716, 0.2274, 0.1465, 0.4610, 0.3811, 0.6141, 0.3142, 0.9525,\n",
      "         0.7742],\n",
      "        [0.6054, 0.8630, 0.9576, 0.0110, 0.4274, 0.4242, 0.9858, 0.2976, 0.6289,\n",
      "         0.3303],\n",
      "        [0.4529, 0.9125, 0.6480, 0.6960, 0.3224, 0.8055, 0.6391, 0.4511, 0.8270,\n",
      "         0.0447],\n",
      "        [0.8524, 0.7292, 0.6039, 0.4727, 0.9554, 0.2721, 0.4021, 0.2465, 0.1802,\n",
      "         0.2770],\n",
      "        [0.9702, 0.9682, 0.0738, 0.8353, 0.1060, 0.8832, 0.1020, 0.4818, 0.9217,\n",
      "         0.7853],\n",
      "        [0.7621, 0.3805, 0.5586, 0.2827, 0.7077, 0.1841, 0.8186, 0.4343, 0.3944,\n",
      "         0.7582],\n",
      "        [0.3459, 0.8298, 0.9382, 0.6031, 0.3864, 0.3514, 0.8340, 0.8503, 0.6984,\n",
      "         0.5632],\n",
      "        [0.4732, 0.8676, 0.9866, 0.6530, 0.5400, 0.2411, 0.2719, 0.3587, 0.5895,\n",
      "         0.4457],\n",
      "        [0.3963, 0.3758, 0.9285, 0.8349, 0.3368, 0.9790, 0.6760, 0.3956, 0.9146,\n",
      "         0.5603],\n",
      "        [0.6594, 0.0814, 0.9436, 0.4417, 0.7770, 0.3042, 0.5393, 0.1161, 0.3395,\n",
      "         0.4632],\n",
      "        [0.8587, 0.3114, 0.3126, 0.1197, 0.2529, 0.8500, 0.7981, 0.1029, 0.0195,\n",
      "         0.8624],\n",
      "        [0.1725, 0.5678, 0.6142, 0.3058, 0.4316, 0.7207, 0.1483, 0.3831, 0.4688,\n",
      "         0.4630],\n",
      "        [0.1261, 0.8518, 0.1519, 0.8920, 0.8689, 0.2260, 0.6495, 0.5398, 0.8156,\n",
      "         0.0844],\n",
      "        [0.5915, 0.7306, 0.6326, 0.0035, 0.4623, 0.9087, 0.9043, 0.4123, 0.0637,\n",
      "         0.8234],\n",
      "        [0.5288, 0.3607, 0.6931, 0.0109, 0.2754, 0.1856, 0.6663, 0.0097, 0.1588,\n",
      "         0.5500],\n",
      "        [0.8630, 0.7174, 0.8233, 0.1835, 0.3981, 0.8710, 0.8227, 0.5200, 0.6594,\n",
      "         0.4662],\n",
      "        [0.9799, 0.4671, 0.2572, 0.2294, 0.1135, 0.1070, 0.7811, 0.2833, 0.8602,\n",
      "         0.3849],\n",
      "        [0.4672, 0.6891, 0.4960, 0.1812, 0.1299, 0.3652, 0.5862, 0.5445, 0.6131,\n",
      "         0.4204],\n",
      "        [0.1396, 0.9442, 0.7715, 0.4296, 0.2059, 0.8731, 0.3808, 0.3171, 0.6205,\n",
      "         0.7827],\n",
      "        [0.1256, 0.3204, 0.7901, 0.0932, 0.3469, 0.6144, 0.0258, 0.2806, 0.1870,\n",
      "         0.9168],\n",
      "        [0.2836, 0.8113, 0.6698, 0.4997, 0.8484, 0.2506, 0.8903, 0.2972, 0.1871,\n",
      "         0.6878]])\n"
     ]
    },
    {
     "ename": "IndexError",
     "evalue": "too many indices for tensor of dimension 2",
     "output_type": "error",
     "traceback": [
      "\u001b[31m---------------------------------------------------------------------------\u001b[39m",
      "\u001b[31mIndexError\u001b[39m                                Traceback (most recent call last)",
      "\u001b[36mCell\u001b[39m\u001b[36m \u001b[39m\u001b[32mIn[5]\u001b[39m\u001b[32m, line 6\u001b[39m\n\u001b[32m      4\u001b[39m \u001b[38;5;28mprint\u001b[39m(output)\n\u001b[32m      5\u001b[39m \u001b[38;5;66;03m# print(input)\u001b[39;00m\n\u001b[32m----> \u001b[39m\u001b[32m6\u001b[39m \u001b[38;5;28mprint\u001b[39m(\u001b[43moutput\u001b[49m\u001b[43m[\u001b[49m\u001b[43m:\u001b[49m\u001b[43m,\u001b[49m\u001b[43m \u001b[49m\u001b[43m-\u001b[49m\u001b[32;43m1\u001b[39;49m\u001b[43m,\u001b[49m\u001b[43m \u001b[49m\u001b[43m:\u001b[49m\u001b[43m]\u001b[49m)\n",
      "\u001b[31mIndexError\u001b[39m: too many indices for tensor of dimension 2"
     ]
    }
   ],
   "source": [
    "input = torch.rand((4, 8, 10))\n",
    "B, T, C = input.shape\n",
    "output = input.view(B*T, C)\n",
    "print(output)\n",
    "# print(input)\n",
    "print(output[:, -1, :])"
   ]
  },
  {
   "cell_type": "code",
   "execution_count": 6,
   "id": "bb8e7beb-b0c5-4d87-a347-154afb3a71a8",
   "metadata": {},
   "outputs": [
    {
     "name": "stdout",
     "output_type": "stream",
     "text": [
      "tensor([0.4875])\n"
     ]
    }
   ],
   "source": [
    "x = torch.tensor([-0.05],dtype=torch.float32)\n",
    "y = F.sigmoid(x)\n",
    "print(y)"
   ]
  },
  {
   "cell_type": "code",
   "execution_count": 7,
   "id": "e5f5c322-b93c-4c39-aa75-c52868f2ec3c",
   "metadata": {},
   "outputs": [
    {
     "name": "stdout",
     "output_type": "stream",
     "text": [
      "tensor([1.])\n"
     ]
    }
   ],
   "source": [
    "x = torch.tensor([10],dtype=torch.float32)\n",
    "y = F.tanh(x)\n",
    "print(y)"
   ]
  },
  {
   "cell_type": "code",
   "execution_count": null,
   "id": "7025f741-1bd3-419b-ad94-3e2ab1496e89",
   "metadata": {},
   "outputs": [],
   "source": []
  }
 ],
 "metadata": {
  "kernelspec": {
   "display_name": "cuda-gpt",
   "language": "python",
   "name": "cuda"
  },
  "language_info": {
   "codemirror_mode": {
    "name": "ipython",
    "version": 3
   },
   "file_extension": ".py",
   "mimetype": "text/x-python",
   "name": "python",
   "nbconvert_exporter": "python",
   "pygments_lexer": "ipython3",
   "version": "3.11.9"
  }
 },
 "nbformat": 4,
 "nbformat_minor": 5
}
