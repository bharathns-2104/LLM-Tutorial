{
 "cells": [
  {
   "cell_type": "code",
   "execution_count": 33,
   "id": "aa7e9825-d0e7-48dc-b7eb-bc761d1710fd",
   "metadata": {},
   "outputs": [
    {
     "name": "stdout",
     "output_type": "stream",
     "text": [
      "cpu\n"
     ]
    }
   ],
   "source": [
    "import torch\n",
    "import torch.nn as nn\n",
    "import torch.nn.functional as F\n",
    "device = 'cuda' if torch.cuda.is_available() else 'cpu'\n",
    "print(device)\n",
    "block_size =8\n",
    "batch_size =4\n",
    "max_iters = 1000\n",
    "learning_rate = 3e-4\n",
    "eval_iters = 250"
   ]
  },
  {
   "cell_type": "code",
   "execution_count": 34,
   "id": "27a877ed",
   "metadata": {
    "vscode": {
     "languageId": "plaintext"
    }
   },
   "outputs": [
    {
     "name": "stdout",
     "output_type": "stream",
     "text": [
      "['\\n', ' ', '!', '\"', '&', \"'\", '(', ')', '*', ',', '-', '.', '0', '1', '2', '3', '4', '5', '6', '7', '8', '9', ':', ';', '?', 'A', 'B', 'C', 'D', 'E', 'F', 'G', 'H', 'I', 'J', 'K', 'L', 'M', 'N', 'O', 'P', 'Q', 'R', 'S', 'T', 'U', 'V', 'W', 'X', 'Y', 'Z', '[', ']', '_', 'a', 'b', 'c', 'd', 'e', 'f', 'g', 'h', 'i', 'j', 'k', 'l', 'm', 'n', 'o', 'p', 'q', 'r', 's', 't', 'u', 'v', 'w', 'x', 'y', 'z', '\\ufeff']\n"
     ]
    }
   ],
   "source": [
    "with open('wizard_of_oz.txt', 'r' , encoding='utf-8') as f:\n",
    "    text=f.read()\n",
    "chars = sorted(set(text))\n",
    "print(chars)\n",
    "vocab_size = len(chars)"
   ]
  },
  {
   "cell_type": "code",
   "execution_count": 35,
   "id": "d0479360-facc-4384-9065-cdf8185e004f",
   "metadata": {},
   "outputs": [
    {
     "name": "stdout",
     "output_type": "stream",
     "text": [
      "tensor([80,  1,  1, 28, 39, 42, 39, 44, 32, 49,  1, 25, 38, 28,  1, 44, 32, 29,\n",
      "         1, 47, 33, 50, 25, 42, 28,  1, 33, 38,  1, 39, 50,  0,  0,  1,  1, 26,\n",
      "        49,  0,  0,  1,  1, 36, 11,  1, 30, 42, 25, 38, 35,  1, 26, 25, 45, 37,\n",
      "         0,  0,  1,  1, 25, 45, 44, 32, 39, 42,  1, 39, 30,  1, 44, 32, 29,  1,\n",
      "        47, 33, 50, 25, 42, 28,  1, 39, 30,  1, 39, 50,  9,  1, 44, 32, 29,  1,\n",
      "        36, 25, 38, 28,  1, 39, 30,  1, 39, 50])\n"
     ]
    }
   ],
   "source": [
    "string_to_int = { ch:i for i,ch in enumerate(chars) }\n",
    "int_to_string = { i:ch for i,ch in enumerate(chars) }\n",
    "encode = lambda s: [string_to_int[c] for c in s]\n",
    "decode = lambda l: ''.join([int_to_string[i] for i in l])\n",
    "\n",
    "data = torch.tensor(encode(text), dtype=torch.long)\n",
    "print(data[:100])\n"
   ]
  },
  {
   "cell_type": "code",
   "execution_count": 36,
   "id": "c3385e5c-9084-4fff-9e89-f243e188cd7e",
   "metadata": {},
   "outputs": [
    {
     "name": "stdout",
     "output_type": "stream",
     "text": [
      "inputs:\n",
      "tensor([[ 1, 54, 67,  1, 54, 76, 59, 74],\n",
      "        [60, 60, 78,  9,  1, 73, 76, 68],\n",
      "        [56, 68, 69, 58,  9,  1, 76, 61],\n",
      "        [ 1, 55, 58,  1, 54, 55, 65, 58]])\n",
      "targets\n",
      "tensor([[54, 67,  1, 54, 76, 59, 74, 65],\n",
      "        [60, 78,  9,  1, 73, 76, 68,  1],\n",
      "        [68, 69, 58,  9,  1, 76, 61, 62],\n",
      "        [55, 58,  1, 54, 55, 65, 58,  1]])\n"
     ]
    }
   ],
   "source": [
    "n =int(0.8*len(data))\n",
    "train_data = data[:n]\n",
    "val_data = data[n:]\n",
    "\n",
    "def get_batch(split):\n",
    "    data = train_data if split == 'train' else val_data\n",
    "    ix= torch.randint(len(data)- block_size, (batch_size,))\n",
    "    x= torch.stack([data[i:i+block_size] for i in ix])\n",
    "    y= torch.stack([data[i+1:i+block_size+1] for i in ix])\n",
    "    x,y = x.to(device),y.to(device)\n",
    "    return x,y\n",
    "\n",
    "x,y = get_batch('train')\n",
    "print(\"inputs:\")\n",
    "print(x)\n",
    "print(\"targets\")\n",
    "print(y)\n",
    "      \n",
    "                    \n"
   ]
  },
  {
   "cell_type": "code",
   "execution_count": 37,
   "id": "15955c33-5581-43ba-af87-8c83fa40c908",
   "metadata": {},
   "outputs": [
    {
     "name": "stdout",
     "output_type": "stream",
     "text": [
      " whne input is tensor([80]) target is tensor(1)\n",
      " whne input is tensor([80,  1]) target is tensor(1)\n",
      " whne input is tensor([80,  1,  1]) target is tensor(28)\n",
      " whne input is tensor([80,  1,  1, 28]) target is tensor(39)\n",
      " whne input is tensor([80,  1,  1, 28, 39]) target is tensor(42)\n",
      " whne input is tensor([80,  1,  1, 28, 39, 42]) target is tensor(39)\n",
      " whne input is tensor([80,  1,  1, 28, 39, 42, 39]) target is tensor(44)\n",
      " whne input is tensor([80,  1,  1, 28, 39, 42, 39, 44]) target is tensor(32)\n"
     ]
    }
   ],
   "source": [
    "block_size=8\n",
    "\n",
    "x=train_data[:block_size]\n",
    "y=train_data[1:block_size+1]\n",
    "\n",
    "for t in range(block_size):\n",
    "    context = x[:t+1]\n",
    "    target=y[t]\n",
    "    print(' whne input is',context,'target is', target)"
   ]
  },
  {
   "cell_type": "code",
   "execution_count": 38,
   "id": "fd066993-050f-4b3e-b53c-0086aa076808",
   "metadata": {},
   "outputs": [],
   "source": [
    "@torch.no_grad()\n",
    "def estimate_loss():\n",
    "    out = {}\n",
    "    model.eval()\n",
    "    for split in ['train','val']:\n",
    "        losses = torch.zeros(eval_iters)\n",
    "        for k in range(eval_iters):\n",
    "            X, Y = get_batch(split)\n",
    "            logits, loss = model(X, Y)\n",
    "            losses[k] = loss.item()\n",
    "        out[split] = losses.mean()\n",
    "    model.train()\n",
    "    return out"
   ]
  },
  {
   "cell_type": "code",
   "execution_count": 41,
   "id": "d0e3d93a-cd8f-4a70-a3f2-cc7577836187",
   "metadata": {},
   "outputs": [
    {
     "name": "stdout",
     "output_type": "stream",
     "text": [
      "\n",
      "4qzq6DQTV\"[ 3sbEJtORpcY2 ;YAa﻿wv?K*Jj90sDNeI\n",
      "bT8QINHD*.2-5x8rbXTGgCR43Zpi4qZCxHCw8g[zv]YHDQ'NfgW0XNv.'DIVwGWbpBlXy&gP.'ynuFm6Fa﻿o3f.h50CR8KaagQ'r4L98DFFnAbrldTrb7]﻿S5]]yusC?E-aNBTBx.)QVNnfJDBQ'CR8ZtE2KUngId1a8KpW0dI77-[4s(?dTLM )usIE2p.Z]:xgF?7QQUDBaB:)5qR,yV56.(mglH[n!oFImza6km3j&V\"\n",
      "mRTs!09b\n",
      "GYJ?kWv.'&XzvJ]fS.l\n",
      "csk?eeU;e,Jj)i﻿v:vIL?nDC;Q9w8i*!fs\"YDgOqfIimz4vIbZ]vf.)1Xz?,g'r* 1eIp;RsKvGvi*ebcxv.Cz\n",
      "YSbXz0N;YsM;dxg8(SM5TzlqRcYv&Daa-B8DFvLrp46kaVcEWrdTJUzPP_bGzEC(DFN2QQfK)CfLmvF\":KVqL1PV﻿\n",
      "k!7QLrEd.\n"
     ]
    }
   ],
   "source": [
    "class BigramLanguageModel(nn.Module):\n",
    "    def __init__(self,vocab_size):\n",
    "        super().__init__()\n",
    "        self.token_embedding_table = nn.Embedding(vocab_size, vocab_size)\n",
    "\n",
    "    def forward(self, index, targets= None):\n",
    "        logits = self.token_embedding_table(index)\n",
    "        if targets is None:\n",
    "            loss=None\n",
    "        else:\n",
    "            B,T,C = logits.shape\n",
    "            logits = logits.view(B*T, C)\n",
    "            targets = targets.view(B*T)\n",
    "            loss = F.cross_entropy(logits,targets)\n",
    "        return logits, loss\n",
    "\n",
    "    def generate(self, index, max_new_tokens):\n",
    "        for _ in range(max_new_tokens):\n",
    "            logits, loss = self.forward(index)\n",
    "            logits= logits[:, -1, :]\n",
    "            probs = F.softmax(logits, dim = -1)\n",
    "            index_next = torch.multinomial(probs, num_samples=1)\n",
    "            index = torch.cat((index, index_next), dim=1)\n",
    "        return index\n",
    "model = BigramLanguageModel(vocab_size)\n",
    "m = model.to(device)\n",
    "\n",
    "context = torch.zeros((1,1), dtype=torch.long, device = device)\n",
    "generated_chars = decode(m.generate(context,max_new_tokens=500)[0].tolist())\n",
    "print(generated_chars)"
   ]
  },
  {
   "cell_type": "code",
   "execution_count": 45,
   "id": "ae40be58-b242-441c-aaee-49dfd6b429ad",
   "metadata": {},
   "outputs": [
    {
     "name": "stdout",
     "output_type": "stream",
     "text": [
      "Step: 0, train loss 4.7539, val loss: 4.7562\n",
      "Step: 250, train loss 4.6616, val loss: 4.7167\n",
      "Step: 500, train loss 4.6279, val loss: 4.6412\n",
      "Step: 750, train loss 4.5332, val loss: 4.5843\n",
      "4.624715328216553\n"
     ]
    }
   ],
   "source": [
    "optimizer = torch.optim.AdamW(model.parameters(), lr=learning_rate)\n",
    "for iter in range(max_iters):\n",
    "    if iter % eval_iters == 0:\n",
    "        losses = estimate_loss()\n",
    "        print(f\"Step: {iter}, train loss {losses['train']:.4f}, val loss: {losses['val']:.4f}\")\n",
    "    xb,yb = get_batch('train')\n",
    "    logits, loss = model.forward(xb, yb)\n",
    "    optimizer.zero_grad(set_to_none= True)\n",
    "    loss.backward()\n",
    "    optimizer.step()\n",
    "print(loss.item())"
   ]
  },
  {
   "cell_type": "code",
   "execution_count": null,
   "id": "31aa4f33-7ae7-450e-800d-e47f15a0d58a",
   "metadata": {},
   "outputs": [],
   "source": []
  }
 ],
 "metadata": {
  "kernelspec": {
   "display_name": "cuda-gpt",
   "language": "python",
   "name": "cuda"
  },
  "language_info": {
   "codemirror_mode": {
    "name": "ipython",
    "version": 3
   },
   "file_extension": ".py",
   "mimetype": "text/x-python",
   "name": "python",
   "nbconvert_exporter": "python",
   "pygments_lexer": "ipython3",
   "version": "3.11.9"
  }
 },
 "nbformat": 4,
 "nbformat_minor": 5
}
