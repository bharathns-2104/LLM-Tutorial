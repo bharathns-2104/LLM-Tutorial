{
 "cells": [
  {
   "cell_type": "code",
   "execution_count": 1,
   "id": "4593b7a2",
   "metadata": {
    "vscode": {
     "languageId": "plaintext"
    }
   },
   "outputs": [],
   "source": [
    "from tokenizers import Tokenizer\n",
    "from tokenizers.models import BPE\n",
    "from tokenizers.trainers import BpeTrainer\n",
    "from tokenizers.pre_tokenizers import Whitespace"
   ]
  },
  {
   "cell_type": "code",
   "execution_count": 4,
   "id": "ae2977b1-6583-46ac-a102-fc8ccbfd2b24",
   "metadata": {},
   "outputs": [],
   "source": [
    "# write val_split.txt to a file called tokenizer_training.txt that is 5% of the original size\n",
    "with open(\"val_split.txt\", \"r\", encoding=\"utf-8\") as file:\n",
    "    lines = file.readlines()\n",
    "    with open(\"tokenizer_training.txt\", \"w\", encoding=\"utf-8\") as file:\n",
    "        for i in range(0, int(len(lines) * 0.05)):\n",
    "            file.write(lines[i])"
   ]
  },
  {
   "cell_type": "code",
   "execution_count": 5,
   "id": "adb0a895-c11a-4e5f-95fc-1f8c2a926dd6",
   "metadata": {},
   "outputs": [],
   "source": [
    "# Initialize a tokenizer with BPE model\n",
    "tokenizer = Tokenizer(BPE(unk_token=\"[UNK]\"))\n",
    "tokenizer.pre_tokenizer = Whitespace()\n",
    "\n",
    "# Create a BpeTrainer with your desired vocabulary size\n",
    "vocab_size = 50000  # Adjust the vocabulary size here\n",
    "trainer = BpeTrainer(special_tokens=[\"[UNK]\", \"[CLS]\", \"[SEP]\", \"[PAD]\", \"[MASK]\"], vocab_size=vocab_size)\n",
    "\n",
    "# List of files to train the tokenizer on\n",
    "files = [\"tokenizer_training.txt\"]\n",
    "\n",
    "# Train the tokenizer\n",
    "tokenizer.train(files, trainer)\n",
    "\n",
    "# Save the tokenizer\n",
    "tokenizer.save(\"bpe_tokenizer.json\")"
   ]
  },
  {
   "cell_type": "code",
   "execution_count": 6,
   "id": "8f8dc71f-92d0-47f1-a39c-8d590ca331e1",
   "metadata": {},
   "outputs": [
    {
     "name": "stdout",
     "output_type": "stream",
     "text": [
      "Encoded: [16549, 17, 4672, 6]\n",
      "Decoded: Hello , world !\n"
     ]
    }
   ],
   "source": [
    "# Load the tokenizer\n",
    "tokenizer = Tokenizer.from_file(\"bpe_tokenizer.json\")\n",
    "\n",
    "# Encode and decode functions\n",
    "encode = lambda s: tokenizer.encode(s).ids\n",
    "decode = lambda l: tokenizer.decode(l)\n",
    "\n",
    "# Example usage\n",
    "encoded = encode(\"Hello, world!\")\n",
    "decoded = decode(encoded)\n",
    "print(f\"Encoded: {encoded}\\nDecoded: {decoded}\")"
   ]
  },
  {
   "cell_type": "code",
   "execution_count": 8,
   "id": "c7645b71-d4f6-45c0-91ce-c814ae6390c5",
   "metadata": {},
   "outputs": [
    {
     "data": {
      "application/vnd.jupyter.widget-view+json": {
       "model_id": "4143672380774961b00c71e0dedab5a1",
       "version_major": 2,
       "version_minor": 0
      },
      "text/plain": [
       "tokenizer_config.json:   0%|          | 0.00/48.0 [00:00<?, ?B/s]"
      ]
     },
     "metadata": {},
     "output_type": "display_data"
    },
    {
     "name": "stderr",
     "output_type": "stream",
     "text": [
      "C:\\Users\\nsram\\Desktop\\BHARATH\\LEARNING\\Machine Learning\\Fcc-GPT-Course\\cuda\\Lib\\site-packages\\huggingface_hub\\file_download.py:143: UserWarning: `huggingface_hub` cache-system uses symlinks by default to efficiently store duplicated files but your machine does not support them in C:\\Users\\nsram\\.cache\\huggingface\\hub\\models--bert-base-uncased. Caching files will still work but in a degraded version that might require more space on your disk. This warning can be disabled by setting the `HF_HUB_DISABLE_SYMLINKS_WARNING` environment variable. For more details, see https://huggingface.co/docs/huggingface_hub/how-to-cache#limitations.\n",
      "To support symlinks on Windows, you either need to activate Developer Mode or to run Python as an administrator. In order to activate developer mode, see this article: https://docs.microsoft.com/en-us/windows/apps/get-started/enable-your-device-for-development\n",
      "  warnings.warn(message)\n"
     ]
    },
    {
     "data": {
      "application/vnd.jupyter.widget-view+json": {
       "model_id": "bc12a6b99a3946dab378108953c6773c",
       "version_major": 2,
       "version_minor": 0
      },
      "text/plain": [
       "config.json:   0%|          | 0.00/570 [00:00<?, ?B/s]"
      ]
     },
     "metadata": {},
     "output_type": "display_data"
    },
    {
     "data": {
      "application/vnd.jupyter.widget-view+json": {
       "model_id": "3cccccaa9cdf4c1baa4aae1d588baddf",
       "version_major": 2,
       "version_minor": 0
      },
      "text/plain": [
       "vocab.txt:   0%|          | 0.00/232k [00:00<?, ?B/s]"
      ]
     },
     "metadata": {},
     "output_type": "display_data"
    },
    {
     "data": {
      "application/vnd.jupyter.widget-view+json": {
       "model_id": "699ba0db283d4949b9542b852b074997",
       "version_major": 2,
       "version_minor": 0
      },
      "text/plain": [
       "tokenizer.json:   0%|          | 0.00/466k [00:00<?, ?B/s]"
      ]
     },
     "metadata": {},
     "output_type": "display_data"
    },
    {
     "name": "stdout",
     "output_type": "stream",
     "text": [
      "Encoded: [101, 7592, 1010, 2088, 999, 102]\n",
      "Decoded: hello, world!\n"
     ]
    }
   ],
   "source": [
    "from transformers import AutoTokenizer\n",
    "\n",
    "# Load a pretrained tokenizer\n",
    "tokenizer = AutoTokenizer.from_pretrained(\"bert-base-uncased\")\n",
    "\n",
    "# Encode and decode functions using the tokenizer\n",
    "encode = lambda s: tokenizer.encode(s, add_special_tokens=True)\n",
    "decode = lambda l: tokenizer.decode(l, skip_special_tokens=True)\n",
    "\n",
    "# Example usage\n",
    "encoded = encode(\"Hello, world!\")\n",
    "decoded = decode(encoded)\n",
    "print(f\"Encoded: {encoded}\\nDecoded: {decoded}\")"
   ]
  },
  {
   "cell_type": "code",
   "execution_count": null,
   "id": "e6834ab7-fcdb-4d23-9759-685552488678",
   "metadata": {},
   "outputs": [],
   "source": []
  }
 ],
 "metadata": {
  "kernelspec": {
   "display_name": "cuda-gpt",
   "language": "python",
   "name": "cuda"
  },
  "language_info": {
   "codemirror_mode": {
    "name": "ipython",
    "version": 3
   },
   "file_extension": ".py",
   "mimetype": "text/x-python",
   "name": "python",
   "nbconvert_exporter": "python",
   "pygments_lexer": "ipython3",
   "version": "3.11.9"
  }
 },
 "nbformat": 4,
 "nbformat_minor": 5
}
